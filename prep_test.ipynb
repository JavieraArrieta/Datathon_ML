{
 "cells": [
  {
   "cell_type": "code",
   "execution_count": 1,
   "metadata": {},
   "outputs": [],
   "source": [
    "import pandas as pd\n",
    "import numpy as np\n",
    "import matplotlib.pyplot as plt\n",
    "import seaborn as sns\n",
    "import geopandas"
   ]
  },
  {
   "cell_type": "markdown",
   "metadata": {},
   "source": [
    "Preparacion del archivo properties_colombia_test.csv\n",
    "---"
   ]
  },
  {
   "cell_type": "markdown",
   "metadata": {},
   "source": [
    "--------"
   ]
  },
  {
   "cell_type": "code",
   "execution_count": 2,
   "metadata": {},
   "outputs": [],
   "source": [
    "data_test = pd.read_csv('properties_colombia_test.csv')"
   ]
  },
  {
   "cell_type": "code",
   "execution_count": 4,
   "metadata": {},
   "outputs": [
    {
     "data": {
      "text/plain": [
       "(65850, 26)"
      ]
     },
     "execution_count": 4,
     "metadata": {},
     "output_type": "execute_result"
    }
   ],
   "source": [
    "data_test.shape"
   ]
  },
  {
   "cell_type": "code",
   "execution_count": 3,
   "metadata": {},
   "outputs": [
    {
     "name": "stdout",
     "output_type": "stream",
     "text": [
      "<class 'pandas.core.frame.DataFrame'>\n",
      "RangeIndex: 65850 entries, 0 to 65849\n",
      "Data columns (total 26 columns):\n",
      " #   Column           Non-Null Count  Dtype  \n",
      "---  ------           --------------  -----  \n",
      " 0   Unnamed: 0       65850 non-null  int64  \n",
      " 1   id               65850 non-null  object \n",
      " 2   ad_type          65850 non-null  object \n",
      " 3   start_date       65850 non-null  object \n",
      " 4   end_date         65850 non-null  object \n",
      " 5   created_on       65850 non-null  object \n",
      " 6   lat              49433 non-null  float64\n",
      " 7   lon              49433 non-null  float64\n",
      " 8   l1               65850 non-null  object \n",
      " 9   l2               65850 non-null  object \n",
      " 10  l3               62193 non-null  object \n",
      " 11  l4               15074 non-null  object \n",
      " 12  l5               9052 non-null   object \n",
      " 13  l6               2364 non-null   object \n",
      " 14  rooms            9110 non-null   float64\n",
      " 15  bedrooms         13403 non-null  float64\n",
      " 16  bathrooms        52054 non-null  float64\n",
      " 17  surface_total    2314 non-null   float64\n",
      " 18  surface_covered  3305 non-null   float64\n",
      " 19  currency         65833 non-null  object \n",
      " 20  price_period     12121 non-null  object \n",
      " 21  title            65850 non-null  object \n",
      " 22  description      65823 non-null  object \n",
      " 23  property_type    65850 non-null  object \n",
      " 24  operation_type   65850 non-null  object \n",
      " 25  geometry         65850 non-null  object \n",
      "dtypes: float64(7), int64(1), object(18)\n",
      "memory usage: 13.1+ MB\n"
     ]
    }
   ],
   "source": [
    "data_test.info()"
   ]
  },
  {
   "cell_type": "markdown",
   "metadata": {},
   "source": [
    "Verificamos que no hay instancias duplicadas"
   ]
  },
  {
   "cell_type": "code",
   "execution_count": 5,
   "metadata": {},
   "outputs": [
    {
     "data": {
      "text/html": [
       "<div>\n",
       "<style scoped>\n",
       "    .dataframe tbody tr th:only-of-type {\n",
       "        vertical-align: middle;\n",
       "    }\n",
       "\n",
       "    .dataframe tbody tr th {\n",
       "        vertical-align: top;\n",
       "    }\n",
       "\n",
       "    .dataframe thead th {\n",
       "        text-align: right;\n",
       "    }\n",
       "</style>\n",
       "<table border=\"1\" class=\"dataframe\">\n",
       "  <thead>\n",
       "    <tr style=\"text-align: right;\">\n",
       "      <th></th>\n",
       "      <th>Unnamed: 0</th>\n",
       "      <th>id</th>\n",
       "      <th>ad_type</th>\n",
       "      <th>start_date</th>\n",
       "      <th>end_date</th>\n",
       "      <th>created_on</th>\n",
       "      <th>lat</th>\n",
       "      <th>lon</th>\n",
       "      <th>l1</th>\n",
       "      <th>l2</th>\n",
       "      <th>...</th>\n",
       "      <th>bathrooms</th>\n",
       "      <th>surface_total</th>\n",
       "      <th>surface_covered</th>\n",
       "      <th>currency</th>\n",
       "      <th>price_period</th>\n",
       "      <th>title</th>\n",
       "      <th>description</th>\n",
       "      <th>property_type</th>\n",
       "      <th>operation_type</th>\n",
       "      <th>geometry</th>\n",
       "    </tr>\n",
       "  </thead>\n",
       "  <tbody>\n",
       "  </tbody>\n",
       "</table>\n",
       "<p>0 rows × 26 columns</p>\n",
       "</div>"
      ],
      "text/plain": [
       "Empty DataFrame\n",
       "Columns: [Unnamed: 0, id, ad_type, start_date, end_date, created_on, lat, lon, l1, l2, l3, l4, l5, l6, rooms, bedrooms, bathrooms, surface_total, surface_covered, currency, price_period, title, description, property_type, operation_type, geometry]\n",
       "Index: []\n",
       "\n",
       "[0 rows x 26 columns]"
      ]
     },
     "execution_count": 5,
     "metadata": {},
     "output_type": "execute_result"
    }
   ],
   "source": [
    "data_test[data_test.duplicated()]"
   ]
  },
  {
   "cell_type": "markdown",
   "metadata": {},
   "source": [
    "Quitamos la columna id"
   ]
  },
  {
   "cell_type": "code",
   "execution_count": 7,
   "metadata": {},
   "outputs": [],
   "source": [
    "data_test.drop(columns ='id', inplace = True)"
   ]
  },
  {
   "cell_type": "markdown",
   "metadata": {},
   "source": [
    "Renombramos la columna Unnamed: 0"
   ]
  },
  {
   "cell_type": "code",
   "execution_count": 8,
   "metadata": {},
   "outputs": [],
   "source": [
    "data_test = data_test.rename(columns={'Unnamed: 0': 'index'})"
   ]
  },
  {
   "cell_type": "markdown",
   "metadata": {},
   "source": [
    "## Tratamiento de valores faltantes"
   ]
  },
  {
   "cell_type": "code",
   "execution_count": 9,
   "metadata": {},
   "outputs": [
    {
     "data": {
      "image/png": "[encoded data removed]",
      "text/plain": [
       "<Figure size 1800x720 with 3 Axes>"
      ]
     },
     "metadata": {
      "needs_background": "light"
     },
     "output_type": "display_data"
    }
   ],
   "source": [
    "import missingno as msno\n",
    "\n",
    "msno.bar(data_test)\n",
    "plt.show()"
   ]
  },
  {
   "cell_type": "markdown",
   "metadata": {},
   "source": [
    "Quitamos las l1, l3, l4, l5, l6 ya que en el train no las utilizamos"
   ]
  },
  {
   "cell_type": "code",
   "execution_count": 11,
   "metadata": {},
   "outputs": [],
   "source": [
    "data_test = data_test.drop(['l1', 'l3', 'l4','l5', 'l6'], axis=1)"
   ]
  },
  {
   "cell_type": "markdown",
   "metadata": {},
   "source": [
    "Mas columnas sin usar"
   ]
  },
  {
   "cell_type": "code",
   "execution_count": 12,
   "metadata": {},
   "outputs": [],
   "source": [
    "data_test = data_test.drop(['ad_type', 'operation_type'], axis=1)"
   ]
  },
  {
   "cell_type": "markdown",
   "metadata": {},
   "source": [
    "Preparo columna rooms"
   ]
  },
  {
   "cell_type": "code",
   "execution_count": 13,
   "metadata": {},
   "outputs": [
    {
     "name": "stdout",
     "output_type": "stream",
     "text": [
      "Porcentaje de valores faltantes de la variable rooms: 86.16552771450266\n"
     ]
    }
   ],
   "source": [
    "print('Porcentaje de valores faltantes de la variable rooms:', (data_test.rooms.isnull().sum()/len(data_test)) * 100)"
   ]
  },
  {
   "cell_type": "markdown",
   "metadata": {},
   "source": [
    "Promedio de rooms segun la categoria property_type"
   ]
  },
  {
   "cell_type": "code",
   "execution_count": 14,
   "metadata": {},
   "outputs": [
    {
     "data": {
      "text/plain": [
       "Apartamento        33524\n",
       "Casa               20084\n",
       "Lote                5704\n",
       "Otro                5372\n",
       "Local comercial      434\n",
       "Finca                377\n",
       "Oficina              348\n",
       "Parqueadero            7\n",
       "Name: property_type, dtype: int64"
      ]
     },
     "execution_count": 14,
     "metadata": {},
     "output_type": "execute_result"
    }
   ],
   "source": [
    "data_test.property_type.value_counts()"
   ]
  },
  {
   "cell_type": "code",
   "execution_count": 15,
   "metadata": {},
   "outputs": [
    {
     "name": "stdout",
     "output_type": "stream",
     "text": [
      "apartamento:2, casa: 4, otro: 5, lote: 3, local: 3, finca:4, oficina: 3, parqueadero: 3\n"
     ]
    }
   ],
   "source": [
    "rooms_apart = int(data_test[data_test['property_type'] == 'Apartamento'].rooms.mean())\n",
    "rooms_casa = int(data_test[data_test['property_type'] == 'Casa'].rooms.mean())\n",
    "rooms_otro = int(data_test[data_test['property_type'] == 'Otro'].rooms.mean())\n",
    "rooms_Lote = int(data_test[data_test['property_type'] == 'Lote'].rooms.mean())\n",
    "rooms_local = int(data_test[data_test['property_type'] == 'Local comercial'].rooms.mean())\n",
    "rooms_finca = int(data_test[data_test['property_type'] == 'Finca'].rooms.mean())\n",
    "rooms_oficina = int(data_test[data_test['property_type'] == 'Oficina'].rooms.mean())\n",
    "rooms_parque = int(data_test[data_test['property_type'] == 'Parqueadero'].rooms.mean())\n",
    "print(f'apartamento:{rooms_apart}, casa: {rooms_casa}, otro: {rooms_otro}, lote: {rooms_Lote}, local: {rooms_local}, finca:{rooms_finca}, oficina: {rooms_oficina}, parqueadero: {rooms_parque}')"
   ]
  },
  {
   "cell_type": "markdown",
   "metadata": {},
   "source": [
    "Completando valores nan con la media de su categoria"
   ]
  },
  {
   "cell_type": "code",
   "execution_count": 16,
   "metadata": {},
   "outputs": [],
   "source": [
    "data_test['rooms'].fillna(data_test['property_type'].apply(lambda x:rooms_apart if x=='Apartamento' else np.nan), inplace=True)\n",
    "data_test['rooms'].fillna(data_test['property_type'].apply(lambda x:rooms_casa if x=='Casa' else np.nan), inplace=True)\n",
    "data_test['rooms'].fillna(data_test['property_type'].apply(lambda x:rooms_otro if x=='Otro' else np.nan), inplace=True)\n",
    "data_test['rooms'].fillna(data_test['property_type'].apply(lambda x:rooms_Lote if x=='Lote' else np.nan), inplace=True)\n",
    "data_test['rooms'].fillna(data_test['property_type'].apply(lambda x:rooms_local if x=='Local comercial' else np.nan), inplace=True)\n",
    "data_test['rooms'].fillna(data_test['property_type'].apply(lambda x:rooms_finca if x=='Finca' else np.nan), inplace=True)\n",
    "data_test['rooms'].fillna(data_test['property_type'].apply(lambda x:rooms_oficina if x=='Oficina' else np.nan), inplace=True)\n",
    "data_test['rooms'].fillna(data_test['property_type'].apply(lambda x:rooms_parque if x=='Parqueadero' else np.nan), inplace=True)"
   ]
  },
  {
   "cell_type": "markdown",
   "metadata": {},
   "source": [
    "Preparo columna bedrooms"
   ]
  },
  {
   "cell_type": "code",
   "execution_count": 18,
   "metadata": {},
   "outputs": [
    {
     "name": "stdout",
     "output_type": "stream",
     "text": [
      "Porcentaje de valores faltantes de la variable bedrooms: 79.6461655277145\n"
     ]
    }
   ],
   "source": [
    "print('Porcentaje de valores faltantes de la variable bedrooms:', (data_test.bedrooms.isnull().sum()/len(data_test)) * 100)"
   ]
  },
  {
   "cell_type": "markdown",
   "metadata": {},
   "source": [
    "Media de cada categoria para bedrooms"
   ]
  },
  {
   "cell_type": "code",
   "execution_count": 19,
   "metadata": {},
   "outputs": [
    {
     "name": "stdout",
     "output_type": "stream",
     "text": [
      "apartamento:2, casa: 4, otro: 4, lote: 0, local: 1, finca:4, oficina: 1, parqueadero: 1\n"
     ]
    }
   ],
   "source": [
    "bedr_apart = int(data_test[data_test['property_type'] == 'Apartamento'].bedrooms.mean())\n",
    "bedr_casa = int(data_test[data_test['property_type'] == 'Casa'].bedrooms.mean())\n",
    "bedr_otro = int(data_test[data_test['property_type'] == 'Otro'].bedrooms.mean())\n",
    "bedr_Lote = int(data_test[data_test['property_type'] == 'Lote'].bedrooms.mean())\n",
    "bedr_local = int(data_test[data_test['property_type'] == 'Local comercial'].bedrooms.mean())\n",
    "bedr_finca = int(data_test[data_test['property_type'] == 'Finca'].bedrooms.mean())\n",
    "bedr_oficina = int(data_test[data_test['property_type'] == 'Oficina'].bedrooms.mean())\n",
    "bedr_parque = int(data_test[data_test['property_type'] == 'Parqueadero'].bedrooms.mean())\n",
    "print(f'apartamento:{bedr_apart}, casa: {bedr_casa}, otro: {bedr_otro}, lote: {bedr_Lote}, local: {bedr_local}, finca:{bedr_finca}, oficina: {bedr_oficina}, parqueadero: {bedr_parque}')\n"
   ]
  },
  {
   "cell_type": "markdown",
   "metadata": {},
   "source": [
    "Reemplazo nan por la media segun categoria"
   ]
  },
  {
   "cell_type": "code",
   "execution_count": 20,
   "metadata": {},
   "outputs": [],
   "source": [
    "data_test['bedrooms'].fillna(data_test['property_type'].apply(lambda x:bedr_apart if x=='Apartamento' else np.nan), inplace=True)\n",
    "data_test['bedrooms'].fillna(data_test['property_type'].apply(lambda x:bedr_casa if x=='Casa' else np.nan), inplace=True)\n",
    "data_test['bedrooms'].fillna(data_test['property_type'].apply(lambda x:bedr_otro if x=='Otro' else np.nan), inplace=True)\n",
    "data_test['bedrooms'].fillna(data_test['property_type'].apply(lambda x:bedr_Lote if x=='Lote' else np.nan), inplace=True)\n",
    "data_test['bedrooms'].fillna(data_test['property_type'].apply(lambda x:bedr_local if x=='Local comercial' else np.nan), inplace=True)\n",
    "data_test['bedrooms'].fillna(data_test['property_type'].apply(lambda x:bedr_finca if x=='Finca' else np.nan), inplace=True)\n",
    "data_test['bedrooms'].fillna(data_test['property_type'].apply(lambda x:bedr_oficina if x=='Oficina' else np.nan), inplace=True)\n",
    "data_test['bedrooms'].fillna(data_test['property_type'].apply(lambda x:bedr_parque if x=='Parqueadero' else np.nan), inplace=True)"
   ]
  },
  {
   "cell_type": "markdown",
   "metadata": {},
   "source": [
    "Preparo columna bathrooms"
   ]
  },
  {
   "cell_type": "code",
   "execution_count": 21,
   "metadata": {},
   "outputs": [
    {
     "name": "stdout",
     "output_type": "stream",
     "text": [
      "Porcentaje de valores faltantes de la variable bathrooms: 20.950645406226272\n"
     ]
    }
   ],
   "source": [
    "print('Porcentaje de valores faltantes de la variable bathrooms:', (data_test.bathrooms.isnull().sum()/len(data_test)) * 100)"
   ]
  },
  {
   "cell_type": "code",
   "execution_count": 22,
   "metadata": {},
   "outputs": [
    {
     "name": "stdout",
     "output_type": "stream",
     "text": [
      "apartamento:2, casa: 3, otro: 3, lote: 2, local: 1, finca:4, oficina: 1, parqueadero : 1\n"
     ]
    }
   ],
   "source": [
    "bath_apart = int(data_test[data_test['property_type'] == 'Apartamento'].bathrooms.mean())\n",
    "bath_casa = int(data_test[data_test['property_type'] == 'Casa'].bathrooms.mean())\n",
    "bath_otro = int(data_test[data_test['property_type'] == 'Otro'].bathrooms.mean())\n",
    "bath_Lote = int(data_test[data_test['property_type'] == 'Lote'].bathrooms.mean())\n",
    "bath_local = int(data_test[data_test['property_type'] == 'Local comercial'].bathrooms.mean())\n",
    "bath_finca = int(data_test[data_test['property_type'] == 'Finca'].bathrooms.mean())\n",
    "bath_oficina = int(data_test[data_test['property_type'] == 'Oficina'].bathrooms.mean())\n",
    "bath_parque = int(data_test[data_test['property_type'] == 'Parqueadero'].bathrooms.mean())\n",
    "print(f'apartamento:{bath_apart}, casa: {bath_casa}, otro: {bath_otro}, lote: {bath_Lote}, local: {bath_local}, finca:{bath_finca}, oficina: {bath_oficina}, parqueadero : {bath_parque}')"
   ]
  },
  {
   "cell_type": "code",
   "execution_count": 23,
   "metadata": {},
   "outputs": [],
   "source": [
    "data_test['bathrooms'].fillna(data_test['property_type'].apply(lambda x:bath_apart if x=='Apartamento' else np.nan), inplace=True)\n",
    "data_test['bathrooms'].fillna(data_test['property_type'].apply(lambda x:bath_casa if x=='Casa' else np.nan), inplace=True)\n",
    "data_test['bathrooms'].fillna(data_test['property_type'].apply(lambda x:bath_otro if x=='Otro' else np.nan), inplace=True)\n",
    "data_test['bathrooms'].fillna(data_test['property_type'].apply(lambda x:bath_Lote if x=='Lote' else np.nan), inplace=True)\n",
    "data_test['bathrooms'].fillna(data_test['property_type'].apply(lambda x:bath_local if x=='Local comercial' else np.nan), inplace=True)\n",
    "data_test['bathrooms'].fillna(data_test['property_type'].apply(lambda x:bath_finca if x=='Finca' else np.nan), inplace=True)\n",
    "data_test['bathrooms'].fillna(data_test['property_type'].apply(lambda x:bath_oficina if x=='Oficina' else np.nan), inplace=True)\n",
    "data_test['bathrooms'].fillna(data_test['property_type'].apply(lambda x:0 if x=='Parqueadero' else np.nan), inplace=True)"
   ]
  },
  {
   "cell_type": "markdown",
   "metadata": {},
   "source": [
    "Preparo columnas de coordenadas"
   ]
  },
  {
   "cell_type": "code",
   "execution_count": 24,
   "metadata": {},
   "outputs": [
    {
     "data": {
      "text/plain": [
       "['Cundinamarca',\n",
       " 'Antioquia',\n",
       " 'Valle del Cauca',\n",
       " 'Caldas',\n",
       " 'Cauca',\n",
       " 'Amazonas',\n",
       " 'Norte de Santander',\n",
       " 'Atlántico',\n",
       " 'Santander',\n",
       " 'Bolívar',\n",
       " 'Risaralda',\n",
       " 'Tolima',\n",
       " 'Caquetá',\n",
       " 'Quindío',\n",
       " 'Magdalena',\n",
       " 'Meta',\n",
       " 'Nariño',\n",
       " 'Huila',\n",
       " 'Boyacá',\n",
       " 'San Andrés Providencia y Santa Catalina',\n",
       " 'Sucre',\n",
       " 'Córdoba',\n",
       " 'Cesar',\n",
       " 'Casanare',\n",
       " 'La Guajira',\n",
       " 'Guainía',\n",
       " 'Chocó',\n",
       " 'Arauca',\n",
       " 'Guaviare',\n",
       " 'Vichada',\n",
       " 'Putumayo']"
      ]
     },
     "execution_count": 24,
     "metadata": {},
     "output_type": "execute_result"
    }
   ],
   "source": [
    "provincias = list(data_test['l2'].unique())\n",
    "provincias"
   ]
  },
  {
   "cell_type": "markdown",
   "metadata": {},
   "source": [
    "Reemplazo valores faltantes por las coordenadas de su provincia"
   ]
  },
  {
   "cell_type": "code",
   "execution_count": 26,
   "metadata": {},
   "outputs": [],
   "source": [
    "from geopy.geocoders import Nominatim\n",
    "import time\n",
    "import math\n",
    "geo = Nominatim(user_agent='coords')"
   ]
  },
  {
   "cell_type": "code",
   "execution_count": 27,
   "metadata": {},
   "outputs": [],
   "source": [
    "for i in provincias:\n",
    "   loc = geo.geocode(i)\n",
    "   datos = list(loc)\n",
    "   coord = datos[1]\n",
    "   data_test['lat'].fillna(data_test['l2'].apply(lambda x:coord[0] if x == i else np.nan), inplace=True)\n",
    "   data_test['lon'].fillna(data_test['l2'].apply(lambda x:coord[1] if x == i else np.nan), inplace=True)"
   ]
  },
  {
   "cell_type": "markdown",
   "metadata": {},
   "source": [
    "Quitamos columna geometry"
   ]
  },
  {
   "cell_type": "code",
   "execution_count": 28,
   "metadata": {},
   "outputs": [],
   "source": [
    "data_test = data_test.drop('geometry', axis=1)"
   ]
  },
  {
   "cell_type": "markdown",
   "metadata": {},
   "source": [
    "Quitamos columnas de superficies"
   ]
  },
  {
   "cell_type": "code",
   "execution_count": 29,
   "metadata": {},
   "outputs": [],
   "source": [
    "data_test = data_test.drop(['surface_total', 'surface_covered'], axis=1)"
   ]
  },
  {
   "cell_type": "markdown",
   "metadata": {},
   "source": [
    "Mas columnas innecesarias"
   ]
  },
  {
   "cell_type": "code",
   "execution_count": 30,
   "metadata": {},
   "outputs": [],
   "source": [
    "data_test = data_test.drop(['currency', 'title', 'description', 'price_period'], axis=1)"
   ]
  },
  {
   "cell_type": "markdown",
   "metadata": {},
   "source": [
    "Preparo columnas fechas"
   ]
  },
  {
   "cell_type": "code",
   "execution_count": 31,
   "metadata": {},
   "outputs": [],
   "source": [
    "data_test = data_test.drop('created_on', axis=1)"
   ]
  },
  {
   "cell_type": "code",
   "execution_count": 32,
   "metadata": {},
   "outputs": [
    {
     "data": {
      "text/plain": [
       "9999-12-31    3946\n",
       "2020-08-27    1383\n",
       "2020-11-13    1228\n",
       "2020-11-30     967\n",
       "2020-07-27     891\n",
       "              ... \n",
       "2021-08-01       1\n",
       "2021-07-04       1\n",
       "2021-05-17       1\n",
       "2021-06-06       1\n",
       "2021-06-20       1\n",
       "Name: end_date, Length: 438, dtype: int64"
      ]
     },
     "execution_count": 32,
     "metadata": {},
     "output_type": "execute_result"
    }
   ],
   "source": [
    "data_test['end_date'].value_counts()"
   ]
  },
  {
   "cell_type": "markdown",
   "metadata": {},
   "source": [
    "Reemplazo por año 2021"
   ]
  },
  {
   "cell_type": "code",
   "execution_count": 33,
   "metadata": {},
   "outputs": [],
   "source": [
    "data_test['end_date'] = data_test['end_date'].replace('9999-12-31','2021-12-31')"
   ]
  },
  {
   "cell_type": "markdown",
   "metadata": {},
   "source": [
    "Cambio el tipo de dato"
   ]
  },
  {
   "cell_type": "code",
   "execution_count": 34,
   "metadata": {},
   "outputs": [],
   "source": [
    "data_test['start_date'] = data_test['start_date'].astype('datetime64[ns]')"
   ]
  },
  {
   "cell_type": "code",
   "execution_count": 35,
   "metadata": {},
   "outputs": [],
   "source": [
    "data_test['end_date'] = data_test['end_date'].astype('datetime64[ns]')"
   ]
  },
  {
   "cell_type": "markdown",
   "metadata": {},
   "source": [
    "Escalado/Normalizacion\n",
    "---"
   ]
  },
  {
   "cell_type": "code",
   "execution_count": 36,
   "metadata": {},
   "outputs": [],
   "source": [
    "from sklearn import preprocessing\n",
    "le = preprocessing.LabelEncoder()"
   ]
  },
  {
   "cell_type": "markdown",
   "metadata": {},
   "source": [
    "Categorias como strings"
   ]
  },
  {
   "cell_type": "code",
   "execution_count": 37,
   "metadata": {},
   "outputs": [
    {
     "name": "stdout",
     "output_type": "stream",
     "text": [
      "['Apartamento' 'Casa' 'Finca' 'Local comercial' 'Lote' 'Oficina' 'Otro'\n",
      " 'Parqueadero']\n"
     ]
    }
   ],
   "source": [
    "le.fit(data_test['property_type'])\n",
    "print(le.classes_)"
   ]
  },
  {
   "cell_type": "markdown",
   "metadata": {},
   "source": [
    "Transformamos"
   ]
  },
  {
   "cell_type": "code",
   "execution_count": 38,
   "metadata": {},
   "outputs": [],
   "source": [
    "data_test['property_type_le'] = le.transform(data_test['property_type'])"
   ]
  },
  {
   "cell_type": "code",
   "execution_count": 39,
   "metadata": {},
   "outputs": [
    {
     "data": {
      "text/plain": [
       "array([1, 0, 4, 6, 5, 2, 3, 7])"
      ]
     },
     "execution_count": 39,
     "metadata": {},
     "output_type": "execute_result"
    }
   ],
   "source": [
    "data_test.property_type_le.unique()"
   ]
  },
  {
   "cell_type": "markdown",
   "metadata": {},
   "source": [
    "Quito columna string"
   ]
  },
  {
   "cell_type": "code",
   "execution_count": 40,
   "metadata": {},
   "outputs": [],
   "source": [
    "data_test = data_test.drop('property_type', axis=1)"
   ]
  },
  {
   "cell_type": "markdown",
   "metadata": {},
   "source": [
    "Preparo columna provincias"
   ]
  },
  {
   "cell_type": "code",
   "execution_count": 41,
   "metadata": {},
   "outputs": [],
   "source": [
    "data_test = data_test.rename(columns={'l2':'provincias'})"
   ]
  },
  {
   "cell_type": "markdown",
   "metadata": {},
   "source": [
    "Categorias"
   ]
  },
  {
   "cell_type": "code",
   "execution_count": 42,
   "metadata": {},
   "outputs": [
    {
     "name": "stdout",
     "output_type": "stream",
     "text": [
      "['Amazonas' 'Antioquia' 'Arauca' 'Atlántico' 'Bolívar' 'Boyacá' 'Caldas'\n",
      " 'Caquetá' 'Casanare' 'Cauca' 'Cesar' 'Chocó' 'Cundinamarca' 'Córdoba'\n",
      " 'Guainía' 'Guaviare' 'Huila' 'La Guajira' 'Magdalena' 'Meta' 'Nariño'\n",
      " 'Norte de Santander' 'Putumayo' 'Quindío' 'Risaralda'\n",
      " 'San Andrés Providencia y Santa Catalina' 'Santander' 'Sucre' 'Tolima'\n",
      " 'Valle del Cauca' 'Vichada']\n"
     ]
    }
   ],
   "source": [
    "le.fit(data_test['provincias'])\n",
    "print(le.classes_)"
   ]
  },
  {
   "cell_type": "markdown",
   "metadata": {},
   "source": [
    "Tranformamos"
   ]
  },
  {
   "cell_type": "code",
   "execution_count": 43,
   "metadata": {},
   "outputs": [],
   "source": [
    "data_test['provincias_le'] = le.transform(data_test['provincias'])"
   ]
  },
  {
   "cell_type": "markdown",
   "metadata": {},
   "source": [
    "Quitamos la columna con strings"
   ]
  },
  {
   "cell_type": "code",
   "execution_count": 44,
   "metadata": {},
   "outputs": [],
   "source": [
    "data_test = data_test.drop('provincias', axis=1)"
   ]
  },
  {
   "cell_type": "markdown",
   "metadata": {},
   "source": [
    "Columnas de fechas a numericas"
   ]
  },
  {
   "cell_type": "code",
   "execution_count": 45,
   "metadata": {},
   "outputs": [],
   "source": [
    "import datetime as dt\n",
    "data_test['startdate_n']=data_test['start_date'].map(dt.datetime.toordinal)\n",
    "data_test['enddate_n']=data_test['end_date'].map(dt.datetime.toordinal)"
   ]
  },
  {
   "cell_type": "markdown",
   "metadata": {},
   "source": [
    "Ultimas modificaciones\n",
    "---"
   ]
  },
  {
   "cell_type": "code",
   "execution_count": 46,
   "metadata": {},
   "outputs": [],
   "source": [
    "data_test = data_test.drop(['index', 'start_date', 'end_date'], axis=1)"
   ]
  },
  {
   "cell_type": "code",
   "execution_count": 47,
   "metadata": {},
   "outputs": [],
   "source": [
    "data_test = data_test.rename(columns={'property_type_le':'property_type', 'provincias_le':'provincias', 'startdate_n':'start_date', 'enddate_n':'end_date'})"
   ]
  },
  {
   "cell_type": "code",
   "execution_count": 48,
   "metadata": {},
   "outputs": [],
   "source": [
    "data_prep = data_test.to_csv('data_test.csv', index=False)"
   ]
  }
 ],
 "metadata": {
  "kernelspec": {
   "display_name": "Python 3.10.8 64-bit",
   "language": "python",
   "name": "python3"
  },
  "language_info": {
   "codemirror_mode": {
    "name": "ipython",
    "version": 3
   },
   "file_extension": ".py",
   "mimetype": "text/x-python",
   "name": "python",
   "nbconvert_exporter": "python",
   "pygments_lexer": "ipython3",
   "version": "3.10.8"
  },
  "orig_nbformat": 4,
  "vscode": {
   "interpreter": {
    "hash": "8c3d4d9970fc5c09c50d9318a9c7fbf4d0159e4b28833276f5678ee22bded273"
   }
  }
 },
 "nbformat": 4,
 "nbformat_minor": 2
}
